{
 "cells": [
  {
   "cell_type": "code",
   "execution_count": 1,
   "outputs": [],
   "source": [
    "import pandas as pd\n",
    "import os\n",
    "import shutil\n",
    "from sklearn.model_selection import train_test_split\n",
    "from PIL import Image"
   ],
   "metadata": {
    "collapsed": false,
    "ExecuteTime": {
     "end_time": "2023-11-20T09:04:17.877595Z",
     "start_time": "2023-11-20T09:04:07.135372Z"
    }
   },
   "id": "4308ab1c65c5d814"
  },
  {
   "cell_type": "code",
   "execution_count": 2,
   "outputs": [],
   "source": [
    "# Function to copy files from source to destination directory\n",
    "def write_partition_data_file(data, destination_directory, txt_file_path):\n",
    "    os.makedirs(\"data/\", exist_ok=True)\n",
    "    with open(txt_file_path, 'w') as txt_file:\n",
    "        for _, row in data.iterrows():\n",
    "            sample_path = \"input_data/\" + row['sample_path']\n",
    "            label_id = row['label_id']\n",
    "            label_directory = os.path.join(destination_directory, str(label_id))\n",
    "            \n",
    "            # Create label directory if it doesn't exist\n",
    "            os.makedirs(label_directory, exist_ok=True)\n",
    "            \n",
    "            img = Image.open(sample_path)\n",
    "            img = img.resize((28, 28))\n",
    "            # Copy the file to the label directory\n",
    "            img.save(sample_path)\n",
    "            shutil.copy(sample_path, label_directory)\n",
    "            \n",
    "            # Write relative file path to the text file\n",
    "            relative_path = os.path.join(label_directory, os.path.basename(sample_path))\n",
    "            relative_path = relative_path.replace(\"data/\", \"\")\n",
    "            txt_file.write(f\"{relative_path}\\n\")"
   ],
   "metadata": {
    "collapsed": false,
    "ExecuteTime": {
     "end_time": "2023-11-20T09:06:32.940355Z",
     "start_time": "2023-11-20T09:06:32.938927Z"
    }
   },
   "id": "57730ab97ea68dd4"
  },
  {
   "cell_type": "code",
   "execution_count": 3,
   "outputs": [],
   "source": [
    "# Read the CSV file into a pandas DataFrame\n",
    "csv_file_path = 'input_data/femnist.csv'\n",
    "df = pd.read_csv(csv_file_path)"
   ],
   "metadata": {
    "collapsed": false,
    "ExecuteTime": {
     "end_time": "2023-11-20T09:06:44.288526Z",
     "start_time": "2023-11-20T09:06:43.322531Z"
    }
   },
   "id": "526d6ebda66f0228"
  },
  {
   "cell_type": "code",
   "execution_count": 4,
   "outputs": [],
   "source": [
    "# Filter samples for client_id = 6\n",
    "clients = df['client_id'].unique()"
   ],
   "metadata": {
    "collapsed": false,
    "ExecuteTime": {
     "end_time": "2023-11-20T09:06:46.526644Z",
     "start_time": "2023-11-20T09:06:46.513334Z"
    }
   },
   "id": "1f905863c599fce6"
  },
  {
   "cell_type": "code",
   "execution_count": 5,
   "outputs": [],
   "source": [
    "# Define paths for train and test directories\n",
    "train_directory = 'data/train'\n",
    "test_directory = 'data/test'\n",
    "\n",
    "for client_id in clients:\n",
    "    client_data = df[df['client_id'] == client_id]\n",
    "    train_data, test_data = train_test_split(client_data, test_size=0.3, random_state=42)\n",
    "    train_txt_file_path = f'data/partition_{client_id}_train.txt'\n",
    "    test_txt_file_path = f'data/partition_{client_id}_test.txt'\n",
    "    write_partition_data_file(train_data, train_directory, train_txt_file_path)\n",
    "    write_partition_data_file(test_data, test_directory, test_txt_file_path)"
   ],
   "metadata": {
    "collapsed": false,
    "ExecuteTime": {
     "end_time": "2023-11-20T09:19:31.873898Z",
     "start_time": "2023-11-20T09:06:48.583894Z"
    }
   },
   "id": "e91bfe3bef46187a"
  }
 ],
 "metadata": {
  "kernelspec": {
   "display_name": "Python 3",
   "language": "python",
   "name": "python3"
  },
  "language_info": {
   "codemirror_mode": {
    "name": "ipython",
    "version": 2
   },
   "file_extension": ".py",
   "mimetype": "text/x-python",
   "name": "python",
   "nbconvert_exporter": "python",
   "pygments_lexer": "ipython2",
   "version": "2.7.6"
  }
 },
 "nbformat": 4,
 "nbformat_minor": 5
}
